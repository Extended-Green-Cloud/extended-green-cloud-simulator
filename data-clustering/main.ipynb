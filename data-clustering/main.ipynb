{
 "cells": [
  {
   "attachments": {},
   "cell_type": "markdown",
   "metadata": {},
   "source": [
    "## CLUSTERING SET-UP"
   ]
  },
  {
   "cell_type": "code",
   "execution_count": null,
   "metadata": {},
   "outputs": [],
   "source": [
    "# SUPPRESS WARNING\n",
    "\n",
    "import warnings\n",
    "from numba.core.errors import NumbaDeprecationWarning\n",
    "\n",
    "warnings.simplefilter(action='ignore', category=FutureWarning)\n",
    "warnings.simplefilter(action='ignore', category=NumbaDeprecationWarning)"
   ]
  },
  {
   "cell_type": "code",
   "execution_count": null,
   "metadata": {},
   "outputs": [],
   "source": [
    "from src.data.data_parser import WorkflowsImport, OrdersImport\n",
    "from src.helpers.feature_encoder import WORKFLOW_FEATURES, ORDER_FEATURES\n",
    "from src.clustering.clustering import ClusteringObjective\n",
    "\n",
    "# IMPORT DATA\n",
    "WORKFLOWS = WorkflowsImport.IMPORT_FROM_CSV()\n",
    "WORKFLOWS_DB = WorkflowsImport.IMPORT_FROM_DB()\n",
    "ORDERS = OrdersImport.IMPORT_FROM_CSV()\n",
    "\n",
    "# DEFINE TYPE OF OBJECTS THAT ARE GOING TO BE CLUSTERED\n",
    "CLUSTERING_OBJECTIVE = ClusteringObjective.WORKFLOWS\n",
    "\n",
    "# DEFINE FEATURES DISPLAYED IN ANALYSIS\n",
    "WORKFLOWS_DISPLAYABLE_DETAILS = [\n",
    "    WORKFLOW_FEATURES.CPU, \n",
    "    WORKFLOW_FEATURES.MEMORY, \n",
    "    WORKFLOW_FEATURES.EPHEMERAL_STORAGE, \n",
    "    WORKFLOW_FEATURES.STORAGE, \n",
    "    WORKFLOW_FEATURES.PROCESSED_SIZE,\n",
    "    WORKFLOW_FEATURES.DURATION,\n",
    "    WORKFLOW_FEATURES.STEPS_NO, \n",
    "    WORKFLOW_FEATURES.PRIORITY\n",
    "]\n",
    "\n",
    "ORDERS_DISPLAYABLE_DETAILS = [\n",
    "    ORDER_FEATURES.CPU, \n",
    "    ORDER_FEATURES.MEMORY, \n",
    "    ORDER_FEATURES.EPHEMERAL_STORAGE, \n",
    "    ORDER_FEATURES.STORAGE, \n",
    "    ORDER_FEATURES.PROCESSED_SIZE,\n",
    "    ORDER_FEATURES.DURATION,\n",
    "    ORDER_FEATURES.WORKFLOW_NO,\n",
    "    ORDER_FEATURES.ORDER_STATUS_CODE,\n",
    "    ORDER_FEATURES.ORDER_NAME_CODE\n",
    "]\n",
    "\n",
    "DISPLAYABLE_DETAILS = WORKFLOWS_DISPLAYABLE_DETAILS if CLUSTERING_OBJECTIVE == ClusteringObjective.WORKFLOWS else ORDERS_DISPLAYABLE_DETAILS"
   ]
  },
  {
   "cell_type": "code",
   "execution_count": null,
   "metadata": {},
   "outputs": [],
   "source": [
    "# EXPLORATORY ANALYSIS SECTION\n",
    "from src.exploratory.exploratory_analysis import ExploratoryAnalysis\n",
    "\n",
    "exploratory = ExploratoryAnalysis(WORKFLOWS, WORKFLOWS_DB, DISPLAYABLE_DETAILS, True)\n",
    "exploratory.run_all()"
   ]
  },
  {
   "cell_type": "code",
   "execution_count": null,
   "metadata": {},
   "outputs": [],
   "source": [
    "# DATA AUGMENTATION SECTION\n",
    "from src.augmentation.data_augmentation import AugmentWorkflows\n",
    "\n",
    "DIR_NAME = 'k-means-with-pca-for-9-features'\n",
    "FILE_NAME = 'k-means-with-pca-for-9-features-output-labels.csv'\n",
    "LABELS = [0, 1, 3, 5, 6]\n",
    "\n",
    "WORKFLOWS_TO_AUGMENTATION = WorkflowsImport.IMPORT_FROM_FILE(DIR_NAME, FILE_NAME)\n",
    "\n",
    "AugmentWorkflows(WORKFLOWS_TO_AUGMENTATION, LABELS, 200).run_and_save()"
   ]
  },
  {
   "cell_type": "code",
   "execution_count": null,
   "metadata": {},
   "outputs": [],
   "source": [
    "from src.clustering.clustering_evaluation import ClusteringMetrics\n",
    "from src.clustering.clustering_pre_processing import ClusteringPreProcessing\n",
    "from src.helpers.dimensionality_reducer import DimensionalityReducer\n",
    "from src.clustering.clustering_methods import ClusteringMethod\n",
    "from src.helpers.feature_encoder import WORKFLOW_FEATURES, ORDER_FEATURES\n",
    "\n",
    "# DEFINE CLUSTERING PARAMETERS\n",
    "CLUSTERING_DATA = WORKFLOWS if CLUSTERING_OBJECTIVE == ClusteringObjective.WORKFLOWS else ORDERS \n",
    "CLUSTERING_METHOD = ClusteringMethod.K_MEANS\n",
    "CLUSTERING_PARAMS = [10]\n",
    "\n",
    "# SPECIFY PRE-PROCESSING OPERATIONS\n",
    "REDUCTION_PARAMS = ()\n",
    "DIMENSIONALITY_REDUCTION = DimensionalityReducer.PCA\n",
    "PRE_PROCESSING_OPERATIONS = [\n",
    "    ClusteringPreProcessing.ONLY_DB_RECORDS, \n",
    "    ClusteringPreProcessing.MERGE_STATUSES,\n",
    "    ClusteringPreProcessing.FILTER_TEST_WORKFLOWS\n",
    "]\n",
    "\n",
    "# DEFINE FEATURES USED IN CLUSTERING\n",
    "WORKFLOWS_CLUSTERING_DETAILS = [\n",
    "    WORKFLOW_FEATURES.CPU,\n",
    "    WORKFLOW_FEATURES.DURATION,\n",
    "    WORKFLOW_FEATURES.MEMORY,\n",
    "    WORKFLOW_FEATURES.EPHEMERAL_STORAGE,\n",
    "    WORKFLOW_FEATURES.STORAGE,\n",
    "    WORKFLOW_FEATURES.PROCESSED_SIZE,\n",
    "    WORKFLOW_FEATURES.EXECUTED_STEPS_NO,\n",
    "    WORKFLOW_FEATURES.ORDER_ITEM_STATUS_CODE,\n",
    "    WORKFLOW_FEATURES.ARGO_STATUS_DETAILS_CODE,\n",
    "    WORKFLOW_FEATURES.PROCESSOR_TYPE_CODE\n",
    "]\n",
    "\n",
    "ORDER_CLUSTERING_DETAILS = [\n",
    "    ORDER_FEATURES.DURATION,\n",
    "    ORDER_FEATURES.MEMORY,\n",
    "    ORDER_FEATURES.WORKFLOW_NO,\n",
    "    ORDER_FEATURES.EPHEMERAL_STORAGE,\n",
    "    ORDER_FEATURES.STORAGE,\n",
    "    ORDER_FEATURES.PROCESSED_SIZE,\n",
    "    ORDER_FEATURES.ORDER_STATUS_CODE\n",
    "]\n",
    "\n",
    "CLUSTERING_DETAILS = WORKFLOWS_CLUSTERING_DETAILS if CLUSTERING_OBJECTIVE == ClusteringObjective.WORKFLOWS else ORDER_CLUSTERING_DETAILS\n",
    "\n",
    "# DEFINE EVALUATION METRICS\n",
    "VALIDATION_METRICS = [ClusteringMetrics.SILHOUETTE, ClusteringMetrics.CALINSKI, ClusteringMetrics.DAVIES]\n",
    "\n",
    "# SPECIFY IF CLUSTERING TEST SHOULD BE RUN\n",
    "TEST_PARAMETERS = False\n",
    "\n",
    "CLUSTERING_NAME = f'K-Means with {DIMENSIONALITY_REDUCTION.__name__} for {len(CLUSTERING_DETAILS)} features'"
   ]
  },
  {
   "cell_type": "code",
   "execution_count": null,
   "metadata": {},
   "outputs": [],
   "source": [
    "# CLUSTERING SECTION\n",
    "from src.clustering.clustering import Clustering\n",
    "\n",
    "clustering = Clustering(CLUSTERING_NAME, \n",
    "                        CLUSTERING_DATA, \n",
    "                        CLUSTERING_DETAILS, \n",
    "                        DISPLAYABLE_DETAILS, \n",
    "                        CLUSTERING_METHOD, \n",
    "                        VALIDATION_METRICS, \n",
    "                        DIMENSIONALITY_REDUCTION, \n",
    "                        CLUSTERING_OBJECTIVE,\n",
    "                        PRE_PROCESSING_OPERATIONS)\n",
    "clustering.run(CLUSTERING_PARAMS, REDUCTION_PARAMS, test_params=TEST_PARAMETERS)"
   ]
  }
 ],
 "metadata": {
  "kernelspec": {
   "display_name": "Python 3",
   "language": "python",
   "name": "python3"
  },
  "language_info": {
   "codemirror_mode": {
    "name": "ipython",
    "version": 3
   },
   "file_extension": ".py",
   "mimetype": "text/x-python",
   "name": "python",
   "nbconvert_exporter": "python",
   "pygments_lexer": "ipython3",
   "version": "3.8.2"
  },
  "orig_nbformat": 4
 },
 "nbformat": 4,
 "nbformat_minor": 2
}
