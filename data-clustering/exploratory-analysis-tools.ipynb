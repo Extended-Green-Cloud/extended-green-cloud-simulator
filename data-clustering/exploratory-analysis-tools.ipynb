{
 "cells": [
  {
   "cell_type": "markdown",
   "metadata": {},
   "source": [
    "# Exploratory Analysis\n",
    "Tools used in Exploratory Analysis of the workflows"
   ]
  },
  {
   "cell_type": "code",
   "execution_count": null,
   "metadata": {},
   "outputs": [],
   "source": [
    "# SUPPRESS WARNING\n",
    "\n",
    "import warnings\n",
    "from numba.core.errors import NumbaDeprecationWarning\n",
    "\n",
    "warnings.simplefilter(action='ignore', category=FutureWarning)\n",
    "warnings.simplefilter(action='ignore', category=NumbaDeprecationWarning)"
   ]
  },
  {
   "cell_type": "markdown",
   "metadata": {},
   "source": [
    "### Provide analysis configuration"
   ]
  },
  {
   "cell_type": "code",
   "execution_count": null,
   "metadata": {},
   "outputs": [],
   "source": [
    "from src.data.data_parser import WorkflowsImport\n",
    "from src.helpers.feature_encoder import WORKFLOW_FEATURES\n",
    "\n",
    "# IMPORT DATA\n",
    "WORKFLOWS = WorkflowsImport.IMPORT_FROM_CSV()\n",
    "WORKFLOWS_DB = WorkflowsImport.IMPORT_FROM_DB()\n",
    "\n",
    "# EXPLORATORY ANALYSIS CONFIGURATION\n",
    "WORKFLOWS_DISPLAYABLE_DETAILS = [\n",
    "    WORKFLOW_FEATURES.CPU, \n",
    "    WORKFLOW_FEATURES.MEMORY, \n",
    "    WORKFLOW_FEATURES.EPHEMERAL_STORAGE, \n",
    "    WORKFLOW_FEATURES.STORAGE, \n",
    "    WORKFLOW_FEATURES.PROCESSED_SIZE,\n",
    "    WORKFLOW_FEATURES.DURATION,\n",
    "    WORKFLOW_FEATURES.STEPS_NO, \n",
    "    WORKFLOW_FEATURES.PRIORITY\n",
    "]\n",
    "STORE_RESULTS = True"
   ]
  },
  {
   "cell_type": "markdown",
   "metadata": {},
   "source": [
    "### Run analysis"
   ]
  },
  {
   "cell_type": "code",
   "execution_count": null,
   "metadata": {},
   "outputs": [],
   "source": [
    "from src.exploratory.exploratory_analysis import ExploratoryAnalysis\n",
    "\n",
    "exploratory = ExploratoryAnalysis(WORKFLOWS, WORKFLOWS_DB, WORKFLOWS_DISPLAYABLE_DETAILS, STORE_RESULTS)\n",
    "exploratory.run_all()"
   ]
  }
 ],
 "metadata": {
  "language_info": {
   "name": "python"
  }
 },
 "nbformat": 4,
 "nbformat_minor": 2
}
