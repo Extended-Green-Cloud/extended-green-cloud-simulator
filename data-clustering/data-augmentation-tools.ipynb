{
 "cells": [
  {
   "attachments": {},
   "cell_type": "markdown",
   "metadata": {
    "pycharm": {
     "name": "#%% md\n"
    }
   },
   "source": [
    "## DATA AUGMENTATION\n",
    "Tools used in Synthetic Augmentation of the workflows"
   ]
  },
  {
   "cell_type": "markdown",
   "metadata": {
    "pycharm": {
     "name": "#%% md\n"
    }
   },
   "source": [
    "### GENERATION OF SYNTHETIC SAMPLE"
   ]
  },
  {
   "cell_type": "code",
   "execution_count": 2,
   "metadata": {
    "pycharm": {
     "name": "#%%\n"
    }
   },
   "outputs": [],
   "source": [
    "# DATA AUGMENTATION SECTION\n",
    "from src.augmentation.data_augmentation import AugmentWorkflows\n",
    "from src.data.data_parser import WorkflowsImport\n",
    "\n",
    "DIR_NAME_NO_DOWNLOADS = 'k-means-without-download-2024'\n",
    "FILE_NAME_NO_DOWNLOADS = 'k-means-without-download-2024-output-labels.csv'\n",
    "\n",
    "DIR_NAME_DOWNLOADS = 'k-means-only-download-2023'\n",
    "FILE_NAME_DOWNLOADS = 'k-means-only-download-2023-output-labels.csv'\n",
    "\n",
    "LABELS_WITHOUT_DOWNLOAD = [0, 1, 4, 6, 7]\n",
    "LABELS_DOWNLOAD = [0, 1, 2, 4, 5, 6, 7, 8]\n",
    "TOTAL_SIZE = 20\n",
    "TOTAL_DOWNLOAD_SIZE = 1\n",
    "\n",
    "SIZES_WITHOUT_DOWNLOAD = [max(1, int(0.86 * TOTAL_SIZE)), \n",
    "                          max(1, int(0.03 * TOTAL_SIZE)), \n",
    "                          max(1, int(0.01 * TOTAL_SIZE)), \n",
    "                          max(1, int(0.09 * TOTAL_SIZE)), \n",
    "                          max(1, int(0.01 * TOTAL_SIZE))]\n",
    "\n",
    "SIZES_DOWNLOAD = [max(1, int(0.86 * TOTAL_SIZE)), \n",
    "                  max(1, int(0.03 * TOTAL_SIZE)), \n",
    "                  max(1, int(0.01 * TOTAL_SIZE)), \n",
    "                  max(1, int(0.09 * TOTAL_SIZE)), \n",
    "                  max(1, int(0.01 * TOTAL_SIZE))]\n",
    "\n",
    "WORKFLOWS_NO_DOWNLOADS = WorkflowsImport.IMPORT_FROM_FILE(DIR_NAME_NO_DOWNLOADS, FILE_NAME_NO_DOWNLOADS)\n",
    "WORKFLOWS_DOWNLOADS = WorkflowsImport.IMPORT_FROM_FILE(DIR_NAME_DOWNLOADS, FILE_NAME_DOWNLOADS)\n",
    "\n",
    "INPUT_WORKFLOWS = [WORKFLOWS_NO_DOWNLOADS]\n",
    "LABELS_PER_WORKFLOWS = [LABELS_WITHOUT_DOWNLOAD]\n",
    "SAMPLE_SIZES = [SIZES_WITHOUT_DOWNLOAD]\n",
    "\n",
    "AugmentWorkflows(INPUT_WORKFLOWS, LABELS_PER_WORKFLOWS, SAMPLE_SIZES).run_and_save()"
   ]
  },
  {
   "cell_type": "markdown",
   "metadata": {
    "pycharm": {
     "name": "#%% md\n"
    }
   },
   "source": [
    "### COMPARISON OF SYNTHETIC SAMPLE"
   ]
  },
  {
   "cell_type": "code",
   "execution_count": null,
   "metadata": {
    "pycharm": {
     "name": "#%%\n"
    }
   },
   "outputs": [],
   "source": [
    "from src.helpers.feature_encoder import WORKFLOW_FEATURES\n",
    "from src.clustering.clustering_pre_processing import ClusteringPreProcessing\n",
    "from src.augmentation.data_augmentation import compare_with_real_sample\n",
    "from src.data.data_parser import WorkflowsImport\n",
    "\n",
    "# PERFORM COMPARISON OF SYNTHETIC WORKFLOWS TO REAL ONES\n",
    "FEATURES_TO_COMPARE = [WORKFLOW_FEATURES.CPU, \n",
    "                        WORKFLOW_FEATURES.MEMORY, \n",
    "                        WORKFLOW_FEATURES.EPHEMERAL_STORAGE,\n",
    "                        WORKFLOW_FEATURES.DURATION,\n",
    "                        WORKFLOW_FEATURES.PROCESSED_SIZE]\n",
    "\n",
    "PRE_PROCESSING_OPERATIONS = [\n",
    "    ClusteringPreProcessing.ONLY_DB_RECORDS, \n",
    "    ClusteringPreProcessing.MERGE_STATUSES,\n",
    "    ClusteringPreProcessing.FILTER_TEST_WORKFLOWS,\n",
    "    ClusteringPreProcessing.MERGE_CARD_COH\n",
    "]\n",
    "\n",
    "PRE_PROCESSING_OPERATIONS_SYNTHETIC = [\n",
    "    ClusteringPreProcessing.MERGE_CARD_COH\n",
    "]\n",
    "\n",
    "ORIGINAL_WORKFLOWS = WorkflowsImport.IMPORT_FROM_CSV()\n",
    "\n",
    "compare_with_real_sample(FEATURES_TO_COMPARE, PRE_PROCESSING_OPERATIONS, PRE_PROCESSING_OPERATIONS_SYNTHETIC, ORIGINAL_WORKFLOWS)"
   ]
  }
 ],
 "metadata": {
  "kernelspec": {
   "display_name": "Python 3",
   "language": "python",
   "name": "python3"
  },
  "language_info": {
   "codemirror_mode": {
    "name": "ipython",
    "version": 3
   },
   "file_extension": ".py",
   "mimetype": "text/x-python",
   "name": "python",
   "nbconvert_exporter": "python",
   "pygments_lexer": "ipython3",
   "version": "3.11.5"
  },
  "orig_nbformat": 4
 },
 "nbformat": 4,
 "nbformat_minor": 2
}
