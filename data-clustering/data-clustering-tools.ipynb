{
 "cells": [
  {
   "cell_type": "markdown",
   "metadata": {},
   "source": [
    "# Data Clustering\n",
    "Tools used in Data Clustering of the workflows/orders"
   ]
  },
  {
   "cell_type": "code",
   "execution_count": null,
   "metadata": {},
   "outputs": [],
   "source": [
    "# SUPPRESS WARNING\n",
    "\n",
    "import warnings\n",
    "from numba.core.errors import NumbaDeprecationWarning\n",
    "\n",
    "warnings.simplefilter(action='ignore', category=FutureWarning)\n",
    "warnings.simplefilter(action='ignore', category=NumbaDeprecationWarning)"
   ]
  },
  {
   "cell_type": "markdown",
   "metadata": {},
   "source": [
    "### Import data"
   ]
  },
  {
   "cell_type": "code",
   "execution_count": null,
   "metadata": {},
   "outputs": [],
   "source": [
    "from src.data.data_parser import WorkflowsImport, OrdersImport\n",
    "\n",
    "# IMPORT DATA\n",
    "WORKFLOWS = WorkflowsImport.IMPORT_FROM_CSV()\n",
    "ORDERS = OrdersImport.IMPORT_FROM_CSV()"
   ]
  },
  {
   "cell_type": "markdown",
   "metadata": {},
   "source": [
    "### Provide clustering configuration"
   ]
  },
  {
   "cell_type": "code",
   "execution_count": null,
   "metadata": {},
   "outputs": [],
   "source": [
    "from src.clustering.clustering_evaluation import ClusteringMetrics\n",
    "from src.clustering.clustering_pre_processing import ClusteringPreProcessing\n",
    "from src.helpers.dimensionality_reducer import DimensionalityReducer\n",
    "from src.clustering.clustering_methods import ClusteringMethod\n",
    "from src.clustering.clustering import ClusteringObjective\n",
    "from src.helpers.feature_encoder import WORKFLOW_FEATURES, ORDER_FEATURES\n",
    "\n",
    "\n",
    "# DEFINE TYPE OF OBJECTS THAT ARE GOING TO BE CLUSTERED\n",
    "CLUSTERING_OBJECTIVE = ClusteringObjective.WORKFLOWS\n",
    "\n",
    "# DEFINE FEATURES DISPLAYED IN ANALYSIS\n",
    "WORKFLOWS_DISPLAYABLE_DETAILS = [\n",
    "    WORKFLOW_FEATURES.CPU, \n",
    "    WORKFLOW_FEATURES.MEMORY, \n",
    "    WORKFLOW_FEATURES.EPHEMERAL_STORAGE, \n",
    "    WORKFLOW_FEATURES.STORAGE, \n",
    "    WORKFLOW_FEATURES.PROCESSED_SIZE,\n",
    "    WORKFLOW_FEATURES.DURATION,\n",
    "    WORKFLOW_FEATURES.STEPS_NO, \n",
    "    WORKFLOW_FEATURES.PRIORITY\n",
    "]\n",
    "\n",
    "ORDERS_DISPLAYABLE_DETAILS = [\n",
    "    ORDER_FEATURES.CPU, \n",
    "    ORDER_FEATURES.MEMORY, \n",
    "    ORDER_FEATURES.EPHEMERAL_STORAGE, \n",
    "    ORDER_FEATURES.STORAGE, \n",
    "    ORDER_FEATURES.PROCESSED_SIZE,\n",
    "    ORDER_FEATURES.DURATION,\n",
    "    ORDER_FEATURES.WORKFLOW_NO,\n",
    "    ORDER_FEATURES.ORDER_STATUS_CODE,\n",
    "    ORDER_FEATURES.ORDER_NAME_CODE\n",
    "]\n",
    "\n",
    "# DEFINE CLUSTERING PARAMETERS\n",
    "CLUSTERING_METHOD = ClusteringMethod.K_MEANS\n",
    "CLUSTERING_PARAMS = [9]\n",
    "\n",
    "# SPECIFY PRE-PROCESSING OPERATIONS\n",
    "REDUCTION_PARAMS = ()\n",
    "DIMENSIONALITY_REDUCTION = DimensionalityReducer.PCA\n",
    "PRE_PROCESSING_OPERATIONS = [\n",
    "    ClusteringPreProcessing.ONLY_DB_RECORDS, \n",
    "    ClusteringPreProcessing.MERGE_STATUSES,\n",
    "    ClusteringPreProcessing.FILTER_TEST_WORKFLOWS,\n",
    "    ClusteringPreProcessing.FILTER_OUT_DOWNLOAD_WORKFLOWS\n",
    "]\n",
    "\n",
    "# DEFINE FEATURES USED IN CLUSTERING\n",
    "WORKFLOWS_CLUSTERING_DETAILS = [\n",
    "    WORKFLOW_FEATURES.DURATION,\n",
    "    WORKFLOW_FEATURES.MEMORY,\n",
    "    WORKFLOW_FEATURES.EPHEMERAL_STORAGE,\n",
    "    WORKFLOW_FEATURES.STORAGE,\n",
    "    WORKFLOW_FEATURES.PROCESSED_SIZE,\n",
    "    WORKFLOW_FEATURES.EXECUTED_STEPS_NO,\n",
    "    WORKFLOW_FEATURES.ARGO_STATUS_CODE,\n",
    "    WORKFLOW_FEATURES.ARGO_OUTPUT_MSG_CODE,\n",
    "    WORKFLOW_FEATURES.PROCESSOR_TYPE_CODE\n",
    "]\n",
    "\n",
    "ORDER_CLUSTERING_DETAILS = [\n",
    "    ORDER_FEATURES.DURATION,\n",
    "    ORDER_FEATURES.MEMORY,\n",
    "    ORDER_FEATURES.WORKFLOW_NO,\n",
    "    ORDER_FEATURES.EPHEMERAL_STORAGE,\n",
    "    ORDER_FEATURES.STORAGE,\n",
    "    ORDER_FEATURES.PROCESSED_SIZE,\n",
    "    ORDER_FEATURES.ORDER_STATUS_CODE\n",
    "]\n",
    "\n",
    "# DEFINE EVALUATION METRICS\n",
    "VALIDATION_METRICS = [ClusteringMetrics.SILHOUETTE, ClusteringMetrics.CALINSKI, ClusteringMetrics.DAVIES]\n",
    "\n",
    "# SPECIFY IF CLUSTERING TEST SHOULD BE RUN\n",
    "TEST_PARAMETERS = False\n",
    "\n",
    "# SPECIFY IF RESULTS SHOULD BE SAVED\n",
    "SAVE_RESULTS = True\n",
    "\n",
    "# SPECIFY NAME OF THE FILE UNDER WHICH THE RESULTS ARE TO BE STORED\n",
    "CLUSTERING_NAME = f'K-Means without download'\n",
    "\n",
    "CLUSTERING_DETAILS = WORKFLOWS_CLUSTERING_DETAILS if CLUSTERING_OBJECTIVE == ClusteringObjective.WORKFLOWS else ORDER_CLUSTERING_DETAILS\n",
    "DISPLAYABLE_DETAILS = WORKFLOWS_DISPLAYABLE_DETAILS if CLUSTERING_OBJECTIVE == ClusteringObjective.WORKFLOWS else ORDERS_DISPLAYABLE_DETAILS\n",
    "CLUSTERING_DATA = WORKFLOWS if CLUSTERING_OBJECTIVE == ClusteringObjective.WORKFLOWS else ORDERS "
   ]
  },
  {
   "cell_type": "markdown",
   "metadata": {},
   "source": [
    "### Run data clustering"
   ]
  },
  {
   "cell_type": "code",
   "execution_count": null,
   "metadata": {},
   "outputs": [],
   "source": [
    "# CLUSTERING SECTION\n",
    "from src.clustering.clustering import Clustering\n",
    "\n",
    "clustering = Clustering(CLUSTERING_NAME, \n",
    "                        CLUSTERING_DATA, \n",
    "                        CLUSTERING_DETAILS, \n",
    "                        DISPLAYABLE_DETAILS, \n",
    "                        CLUSTERING_METHOD, \n",
    "                        VALIDATION_METRICS, \n",
    "                        DIMENSIONALITY_REDUCTION, \n",
    "                        CLUSTERING_OBJECTIVE,\n",
    "                        PRE_PROCESSING_OPERATIONS)\n",
    "clustering.run(CLUSTERING_PARAMS, REDUCTION_PARAMS, test_params=TEST_PARAMETERS, save_data=SAVE_RESULTS)"
   ]
  }
 ],
 "metadata": {
  "language_info": {
   "name": "python"
  }
 },
 "nbformat": 4,
 "nbformat_minor": 2
}
